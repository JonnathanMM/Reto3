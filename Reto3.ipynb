{
  "nbformat": 4,
  "nbformat_minor": 0,
  "metadata": {
    "colab": {
      "name": "Reto3.ipynb",
      "provenance": [],
      "collapsed_sections": [],
      "authorship_tag": "ABX9TyOxCHuhDwlCLiU0Wteyr+UO",
      "include_colab_link": true
    },
    "kernelspec": {
      "name": "python3",
      "display_name": "Python 3"
    }
  },
  "cells": [
    {
      "cell_type": "markdown",
      "metadata": {
        "id": "view-in-github",
        "colab_type": "text"
      },
      "source": [
        "<a href=\"https://colab.research.google.com/github/JonnathanMM/Reto3/blob/main/Reto3.ipynb\" target=\"_parent\"><img src=\"https://colab.research.google.com/assets/colab-badge.svg\" alt=\"Open In Colab\"/></a>"
      ]
    },
    {
      "cell_type": "code",
      "metadata": {
        "colab": {
          "base_uri": "https://localhost:8080/"
        },
        "id": "5dKoIHAp8vWJ",
        "outputId": "f33a17af-ffcb-4ddc-fe63-5e4167ffc6bd"
      },
      "source": [
        "!pip install azure-ai-textanalytics --pre"
      ],
      "execution_count": null,
      "outputs": [
        {
          "output_type": "stream",
          "text": [
            "Requirement already satisfied: azure-ai-textanalytics in /usr/local/lib/python3.7/dist-packages (5.1.0b5)\n",
            "Requirement already satisfied: six>=1.11.0 in /usr/local/lib/python3.7/dist-packages (from azure-ai-textanalytics) (1.15.0)\n",
            "Requirement already satisfied: msrest>=0.6.0 in /usr/local/lib/python3.7/dist-packages (from azure-ai-textanalytics) (0.6.21)\n",
            "Requirement already satisfied: azure-common~=1.1 in /usr/local/lib/python3.7/dist-packages (from azure-ai-textanalytics) (1.1.26)\n",
            "Requirement already satisfied: azure-core<2.0.0,>=1.8.2 in /usr/local/lib/python3.7/dist-packages (from azure-ai-textanalytics) (1.12.0b1)\n",
            "Requirement already satisfied: requests-oauthlib>=0.5.0 in /usr/local/lib/python3.7/dist-packages (from msrest>=0.6.0->azure-ai-textanalytics) (1.3.0)\n",
            "Requirement already satisfied: certifi>=2017.4.17 in /usr/local/lib/python3.7/dist-packages (from msrest>=0.6.0->azure-ai-textanalytics) (2020.12.5)\n",
            "Requirement already satisfied: requests~=2.16 in /usr/local/lib/python3.7/dist-packages (from msrest>=0.6.0->azure-ai-textanalytics) (2.23.0)\n",
            "Requirement already satisfied: isodate>=0.6.0 in /usr/local/lib/python3.7/dist-packages (from msrest>=0.6.0->azure-ai-textanalytics) (0.6.0)\n",
            "Requirement already satisfied: oauthlib>=3.0.0 in /usr/local/lib/python3.7/dist-packages (from requests-oauthlib>=0.5.0->msrest>=0.6.0->azure-ai-textanalytics) (3.1.0)\n",
            "Requirement already satisfied: chardet<4,>=3.0.2 in /usr/local/lib/python3.7/dist-packages (from requests~=2.16->msrest>=0.6.0->azure-ai-textanalytics) (3.0.4)\n",
            "Requirement already satisfied: idna<3,>=2.5 in /usr/local/lib/python3.7/dist-packages (from requests~=2.16->msrest>=0.6.0->azure-ai-textanalytics) (2.10)\n",
            "Requirement already satisfied: urllib3!=1.25.0,!=1.25.1,<1.26,>=1.21.1 in /usr/local/lib/python3.7/dist-packages (from requests~=2.16->msrest>=0.6.0->azure-ai-textanalytics) (1.24.3)\n"
          ],
          "name": "stdout"
        }
      ]
    },
    {
      "cell_type": "code",
      "metadata": {
        "colab": {
          "base_uri": "https://localhost:8080/"
        },
        "id": "Y26ika2i9WFq",
        "outputId": "59487c9a-9af7-44a4-f39c-2c1fe2e18043"
      },
      "source": [
        "key = \"2ab43ed363f247348f91a21567add322\"\r\n",
        "endpoint = \"https://analizador.cognitiveservices.azure.com/\"\r\n",
        "ab=\"sentiment\"\r\n",
        "from azure.ai.textanalytics import TextAnalyticsClient\r\n",
        "from azure.core.credentials import AzureKeyCredential\r\n",
        "\r\n",
        "def authenticate_client():\r\n",
        "    ta_credential = AzureKeyCredential(key)\r\n",
        "    text_analytics_client = TextAnalyticsClient(\r\n",
        "            endpoint=endpoint, \r\n",
        "            credential=ta_credential)\r\n",
        "    return text_analytics_client\r\n",
        "\r\n",
        "client = authenticate_client()\r\n",
        "\r\n",
        "# -*- coding: utf-8 -*-\r\n",
        "\r\n",
        "import os\r\n",
        "from azure.ai.textanalytics import TextAnalyticsClient\r\n",
        "from azure.core.credentials import AzureKeyCredential\r\n",
        "\r\n",
        "def authenticateClient():\r\n",
        "    credential = AzureKeyCredential(key)\r\n",
        "    text_analytics_client = TextAnalyticsClient(\r\n",
        "        endpoint=endpoint, credential=credential)\r\n",
        "    return text_analytics_client\r\n",
        "\r\n",
        "def sentiment_analysis_example(client):\r\n",
        "\r\n",
        "    documents = [\"Eres un bobo no sabes jugar. Me agrada ser tu amigo\"]\r\n",
        "    response = client.analyze_sentiment(documents=documents)[0]\r\n",
        "    \r\n",
        "    for idx, sentence in enumerate(response.sentences):\r\n",
        "        print(\"Mensaje: {}\".format(sentence.text))\r\n",
        "        print(\"Mensaje {} clasificacion: {}\".format(idx+1, sentence.sentiment))\r\n",
        "        print(\"Calificacion:\\nPositive={0:.2f}\\nNeutral={1:.2f}\\nNegative={2:.2f}\".format(\r\n",
        "            sentence.confidence_scores.positive,\r\n",
        "            sentence.confidence_scores.neutral,\r\n",
        "            sentence.confidence_scores.negative,\r\n",
        "           \r\n",
        "           \r\n",
        "        ))\r\n",
        "        if sentence.sentiment == 'negative':\r\n",
        "             print(\"Contenido no permitido\\n\")\r\n",
        "        else:\r\n",
        "             print(\"Mensaje enviado\\n\")\r\n",
        "        \r\n",
        "          \r\n",
        "sentiment_analysis_example(client)"
      ],
      "execution_count": null,
      "outputs": [
        {
          "output_type": "stream",
          "text": [
            "Mensaje: Eres un bobo no sabes jugar.\n",
            "Mensaje 1 clasificacion: negative\n",
            "Calificacion:\n",
            "Positive=0.08\n",
            "Neutral=0.15\n",
            "Negative=0.77\n",
            "Contenido no permitido\n",
            "\n",
            "Mensaje: Me agrada ser tu amigo\n",
            "Mensaje 2 clasificacion: positive\n",
            "Calificacion:\n",
            "Positive=0.80\n",
            "Neutral=0.17\n",
            "Negative=0.03\n",
            "Mensaje enviado\n",
            "\n"
          ],
          "name": "stdout"
        }
      ]
    }
  ]
}